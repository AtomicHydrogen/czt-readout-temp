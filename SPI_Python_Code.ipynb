{
 "cells": [
  {
   "cell_type": "markdown",
   "metadata": {},
   "source": [
    "Designed by: [Link](https://github.com/MakarenaLabs/Common-PL-Devices-on-PYNQ/blob/main/SPI/spi_test_pmodB.ipynb). Also uses Sudhanshu's code [here](https://github.com/dakshasat/dev-electronics/blob/stc_prototyping/STC/Sudhanshu/notebooks/test_2det_commanding.ipynb). Comments and changes by Ashwajit\n",
    "\n",
    "Create Date: 11/10/2024\n",
    "Component Name: Pynq SPI Control\n",
    "Description: Contains the code to send commands and receive data via SPI to and from the Pynq board\n",
    "\n",
    "Dependencies: NA\n",
    "\n",
    "Revision:\n",
    "\n",
    "Additional Comments:\n"
   ]
  },
  {
   "cell_type": "code",
   "execution_count": 1,
   "metadata": {},
   "outputs": [
    {
     "data": {
      "application/javascript": "\ntry {\nrequire(['notebook/js/codecell'], function(codecell) {\n  codecell.CodeCell.options_default.highlight_modes[\n      'magic_text/x-csrc'] = {'reg':[/^%%microblaze/]};\n  Jupyter.notebook.events.one('kernel_ready.Kernel', function(){\n      Jupyter.notebook.get_cells().map(function(cell){\n          if (cell.cell_type == 'code'){ cell.auto_highlight(); } }) ;\n  });\n});\n} catch (e) {};\n"
     },
     "metadata": {},
     "output_type": "display_data"
    },
    {
     "data": {
      "application/javascript": "\ntry {\nrequire(['notebook/js/codecell'], function(codecell) {\n  codecell.CodeCell.options_default.highlight_modes[\n      'magic_text/x-csrc'] = {'reg':[/^%%pybind11/]};\n  Jupyter.notebook.events.one('kernel_ready.Kernel', function(){\n      Jupyter.notebook.get_cells().map(function(cell){\n          if (cell.cell_type == 'code'){ cell.auto_highlight(); } }) ;\n  });\n});\n} catch (e) {};\n"
     },
     "metadata": {},
     "output_type": "display_data"
    }
   ],
   "source": [
    "from pynq import Overlay"
   ]
  },
  {
   "cell_type": "markdown",
   "metadata": {},
   "source": [
    "## Overlay"
   ]
  },
  {
   "cell_type": "code",
   "execution_count": 2,
   "metadata": {},
   "outputs": [],
   "source": [
    "ol = Overlay(\"pynqz2_spi_pmodB.bit\") # Ensure bit and hwh files are present"
   ]
  },
  {
   "cell_type": "code",
   "execution_count": 3,
   "metadata": {},
   "outputs": [],
   "source": [
    "mkl_spi = ol.axi_quad_spi_0"
   ]
  },
  {
   "cell_type": "markdown",
   "metadata": {},
   "source": [
    "## SPI Control"
   ]
  },
  {
   "cell_type": "code",
   "execution_count": 4,
   "metadata": {},
   "outputs": [],
   "source": [
    "XSP_DGIER_OFFSET = 0x1C\n",
    "XSP_IISR_OFFSET = 0x20\n",
    "XSP_IIER_OFFSET = 0x28\n",
    "XSP_SRR_OFFSET = 0x40\n",
    "XSP_CR_OFFSET = 0x60 # Control register\n",
    "XSP_SR_OFFSET = 0x64 # Status register\n",
    "XSP_DTR_OFFSET = 0x68 # Data transfer register\n",
    "XSP_DRR_OFFSET = 0x6C # Data receive register\n",
    "XSP_SSR_OFFSET = 0x70 # Register to select slave, one hot encoding\n",
    "XSP_TFO_OFFSET = 0x74\n",
    "XSP_RFO_OFFSET = 0x78\n",
    "XSP_REGISTERS = [0x40, 0x60, 0x64, 0x68, 0x6c, 0x70, 0x74, 0x78, 0x1c, 0x20, 0x28]\n",
    "\n",
    "XSP_SRR_RESET_MASK = 0x0A\n",
    "XSP_SR_TX_EMPTY_MASK = 0x04\n",
    "XSP_SR_TX_FULL_MASK = 0x08\n",
    "XSP_CR_TRANS_INHIBIT_MASK = 0x100\n",
    "XSP_CR_LOOPBACK_MASK = 0x01\n",
    "XSP_CR_ENABLE_MASK = 0x02\n",
    "XSP_CR_MASTER_MODE_MASK = 0x04 # 0x04 for 1\n",
    "XSP_CR_CLK_POLARITY_MASK = 0x08 # CPOL = 0, 0x08 for 1\n",
    "XSP_CR_CLK_PHASE_MASK = 0x10 # CPHA = 0, change to 0x10 for 1\n",
    "XSP_CR_TXFIFO_RESET_MASK = 0x20\n",
    "XSP_CR_RXFIFO_RESET_MASK = 0x40\n",
    "XSP_CR_MANUAL_SS_MASK = 0x80\n",
    "\n",
    "SLAVE_NO_SELECTION = 0xFFFFFFFF\n",
    "\n",
    "def cnfg(AxiQspi, clk_phase=0, clk_pol=1):\n",
    "    print(\"Configure device\")\n",
    "    # Reset the SPI device\n",
    "    AxiQspi.write(XSP_SRR_OFFSET, XSP_SRR_RESET_MASK)\n",
    "    # Enable the transmit empty interrupt, which we use to determine progress on the transmission. \n",
    "    AxiQspi.write(XSP_IIER_OFFSET, XSP_SR_TX_EMPTY_MASK)\n",
    "    # Disable the global IPIF interrupt\n",
    "    AxiQspi.write(XSP_DGIER_OFFSET, 0)\n",
    "    # Deselect the slave on the SPI bus\n",
    "    AxiQspi.write(XSP_SSR_OFFSET, SLAVE_NO_SELECTION)\n",
    "    # Disable the transmitter, enable Manual Slave Select Assertion, put SPI controller into master mode, and enable it\n",
    "    ControlReg = AxiQspi.read(XSP_CR_OFFSET)\n",
    "    ControlReg = ControlReg | XSP_CR_MASTER_MODE_MASK | XSP_CR_MANUAL_SS_MASK | XSP_CR_ENABLE_MASK | XSP_CR_TXFIFO_RESET_MASK | XSP_CR_RXFIFO_RESET_MASK\n",
    "    AxiQspi.write(XSP_CR_OFFSET, ControlReg)\n",
    "    ControlReg = AxiQspi.read(XSP_CR_OFFSET)\n",
    "    ControlReg = ControlReg & ~(XSP_CR_CLK_PHASE_MASK | XSP_CR_CLK_POLARITY_MASK) \n",
    "    if clk_phase == 1:\n",
    "        ControlReg = ControlReg | XSP_CR_CLK_PHASE_MASK\n",
    "    if clk_pol == 1:\n",
    "        ControlReg = ControlReg | XSP_CR_CLK_POLARITY_MASK\n",
    "    AxiQspi.write(XSP_CR_OFFSET, ControlReg)\n",
    "\n",
    "    return 0\n",
    "\n",
    "def xfer(packet, AxiQspi):\n",
    "    print(\"TransferData\")\n",
    "    for data in packet:\n",
    "        AxiQspi.write(XSP_DTR_OFFSET, data) # Data transfer register\n",
    "        AxiQspi.write(XSP_SSR_OFFSET, 0xFFFFFFFE) # Selects slave\n",
    "        ControlReg = AxiQspi.read(XSP_CR_OFFSET) \n",
    "        ControlReg = ControlReg & ~XSP_CR_TRANS_INHIBIT_MASK # Allows master transactions\n",
    "        AxiQspi.write(XSP_CR_OFFSET, ControlReg) \n",
    "\n",
    "        StatusReg = AxiQspi.read(XSP_SR_OFFSET) \n",
    "        while (StatusReg & XSP_SR_TX_EMPTY_MASK) == 0:\n",
    "            StatusReg = AxiQspi.read(XSP_SR_OFFSET) # Until Tx_empty becomes high, continues to loop\n",
    "\n",
    "        print('XSP_RFO_OFFSET  : 0x{0:08x}'.format(AxiQspi.read(XSP_RFO_OFFSET))) # I don't exactly understand what this does, it's just the number of spots of receive FIFO that are used\n",
    "        # May be useful to check if you should now only receive\n",
    "        ControlReg = AxiQspi.read(XSP_CR_OFFSET) \n",
    "        ControlReg = ControlReg | XSP_CR_TRANS_INHIBIT_MASK # Disable master transaction\n",
    "        AxiQspi.write(XSP_CR_OFFSET, ControlReg) \n",
    "        print('Sent ', data)\n",
    "\n",
    "    AxiQspi.write(XSP_SSR_OFFSET, SLAVE_NO_SELECTION) #\n",
    "    return \n",
    "\n",
    "def get_response(AxiQspi):\n",
    "    print(\"ReadResponse\")\n",
    "    resp = list()\n",
    "    RxFifoStatus = AxiQspi.read(XSP_SR_OFFSET) & 0x01 \n",
    "    while RxFifoStatus == 0: # 0 while Rx is still full\n",
    "        temp = AxiQspi.read(XSP_RFO_OFFSET) # Packet number essentially\n",
    "        print('XSP_RFO_OFFSET  : 0x{0:08x}'.format(temp))\n",
    "        temp = AxiQspi.read(XSP_DRR_OFFSET) # Data\n",
    "        print('XSP_DRR_OFFSET  : 0x{0:08x}'.format(temp))    \n",
    "        resp.append(temp)\n",
    "        RxFifoStatus = AxiQspi.read(XSP_SR_OFFSET) & 0x01\n",
    "    return resp\n",
    "\n",
    "\n"
   ]
  },
  {
   "cell_type": "markdown",
   "metadata": {},
   "source": [
    "## CZT Specific Code"
   ]
  },
  {
   "cell_type": "code",
   "execution_count": null,
   "metadata": {},
   "outputs": [],
   "source": [
    "_command_map = {\"READ_PART_BASE\": 0xE0,\n",
    "                    \"READ_SERIAL_LSB\": 0x9D,\n",
    "                    \"READ_SERIAL_MSB\": 0x9E,\n",
    "                    \"READ_FIRMWARE_VERSION\": 0x86,\n",
    "                    \"READ_MODULE_VERSION\": 0xA3,\n",
    "                    \"READ_STATUS\": 0x96,\n",
    "                    \"READ_TEMPERATURE\": 0x9A,\n",
    "                    \"BREAK\": 0x02,\n",
    "                    \"EVENT_ON\": 0x85,\n",
    "                    \"EVENT_OFF\": 0x05,\n",
    "                    \"FIFO_CLEAR\": 0x8C,\n",
    "                    \"SET_THRESHOLD\": 0x21,\n",
    "                    \"GET_THRESHOLD\": 0xA1,\n",
    "                    \"SET_GPIO\": 0x1F,\n",
    "                    \"GET_GPIO\": 0x9F,\n",
    "                    \"SET_CLOCK\": 0x20,\n",
    "                    \"GET_CLOCK\": 0xA0,\n",
    "                    \"RESTORE_SETUP\": 0x81,\n",
    "                    \"UPDATE_SETUP\": 0x01,\n",
    "                    \"SET_PEAKING_TIME\": 0x32,\n",
    "                    \"GET_PEAKING_TIME\": 0xB2,\n",
    "                    \"RUN_SELF_TEST\": 0x34,\n",
    "                    \"GET_SELF_TEST_RESULTS\": 0xB4,\n",
    "                    \"SET_CHANNEL\": 0x07,\n",
    "                    \"GET_CHANNEL\": 0x87,\n",
    "                    \"CHANNEL_CONTROL\": 0x0B,\n",
    "                    \"CHANNEL_STATUS\": 0x8B,\n",
    "                    \"SET_ADDR_POINTER\": 0x03,\n",
    "                    \"GET_ADDR_POINTER\": 0x83,\n",
    "                    \"READ_RAM\": 0x84,\n",
    "                    \"WRITE_RAM\": 0x04,\n",
    "                    \"EEPROM_CHECKSUM\": 0xCB,\n",
    "                    \"HOLD_ON\": 0x10,\n",
    "                    \"HOLD_OFF\": 0x90,\n",
    "                    \"SET_EMULATOR\": 0x48,\n",
    "                    \"GET_EMULATOR\": 0xC8,\n",
    "                    \"WRITE_PROTECT_OFF\": 0x4A,\n",
    "                    \"WRITE_PROTECT_ON\": 0xCA\n",
    "                   }\n",
    "\n",
    "_command_valids = [0xE0,0xE1,0xE2,0xE3,0xE4,0xE5,0xE6,0xE7,0xE8,0xE9,0x9D,0x9E,0x86,0xA3,0x96,0x9A,0x02,0x85,0x05,0x8C,0x21,0xA1,0x1F,0x9F,0x20,0xA0,0x81,0x01,0x32,0xB2,0x34,0xB4,0x07,0x87,0x0B,0x8B,0x03,0x83,0x84,0x04,0xCB,0x10,0x90,0x48,0xC8,0x4A,0xCA]\n",
    "_command_has_reply = [0xE0,0x9D,0x9E,0x86,0xA3,0x96,0x9A,0xA1,0x9F,0xA0,0xB2,0xB4,0x87,0x8B,0xC8,0x83,0x84,0xCB]\n",
    "_command_has_data = [0x21,0x1F,0x20,0x32,0x07,0x0B,0x48,0x03,0x04]\n"
   ]
  },
  {
   "cell_type": "code",
   "execution_count": 5,
   "metadata": {},
   "outputs": [
    {
     "name": "stdout",
     "output_type": "stream",
     "text": [
      "Configure device\n"
     ]
    },
    {
     "data": {
      "text/plain": [
       "0"
      ]
     },
     "execution_count": 5,
     "metadata": {},
     "output_type": "execute_result"
    }
   ],
   "source": [
    "cnfg(mkl_spi)"
   ]
  },
  {
   "cell_type": "markdown",
   "metadata": {},
   "source": [
    "## Testing"
   ]
  },
  {
   "cell_type": "code",
   "execution_count": 7,
   "metadata": {
    "scrolled": true
   },
   "outputs": [
    {
     "name": "stdout",
     "output_type": "stream",
     "text": [
      "TransferData\n",
      "XSP_RFO_OFFSET  : 0x00000000\n",
      "ReadResponse\n",
      "XSP_RFO_OFFSET  : 0x00000000\n",
      "XSP_DRR_OFFSET  : 0x00000000\n"
     ]
    }
   ],
   "source": [
    "xfer([0x85000000], mkl_spi)"
   ]
  }
 ],
 "metadata": {
  "kernelspec": {
   "display_name": "Python 3",
   "language": "python",
   "name": "python3"
  },
  "language_info": {
   "codemirror_mode": {
    "name": "ipython",
    "version": 3
   },
   "file_extension": ".py",
   "mimetype": "text/x-python",
   "name": "python",
   "nbconvert_exporter": "python",
   "pygments_lexer": "ipython3",
   "version": "3.6.5"
  }
 },
 "nbformat": 4,
 "nbformat_minor": 2
}
