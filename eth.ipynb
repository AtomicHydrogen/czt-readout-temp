{
 "cells": [
  {
   "cell_type": "code",
   "execution_count": 10,
   "metadata": {},
   "outputs": [
    {
     "name": "stdout",
     "output_type": "stream",
     "text": [
      "Waiting for a connection...\n",
      "Connected by ('192.168.2.99', 50968)\n",
      "Received packet 1: [[4294967295], [4294967295], [4294967295], [4294967295]]\n",
      "Received all packets.\n"
     ]
    }
   ],
   "source": [
    "import socket\n",
    "import json  # Or import pickle if using pickle for serialization\n",
    "\n",
    "host = '0.0.0.0'\n",
    "port = 12345\n",
    "server_socket = socket.socket(socket.AF_INET, socket.SOCK_STREAM)\n",
    "server_socket.bind((host, port))\n",
    "server_socket.listen(1)\n",
    "\n",
    "print(\"Waiting for a connection...\")\n",
    "conn, addr = server_socket.accept()\n",
    "print(f\"Connected by {addr}\")\n",
    "\n",
    "packet_count = 0\n",
    "total_packets = 5  # Set the desired number of packets to receive\n",
    "\n",
    "while packet_count < total_packets:\n",
    "    data = conn.recv(1024)  # Adjust buffer size as needed\n",
    "    if not data:\n",
    "        break\n",
    "\n",
    "    # Assuming JSON serialization\n",
    "    data_list = json.loads(data.decode())  # Decode and parse JSON data\n",
    "    print(f\"Received packet {packet_count + 1}: {data_list}\")\n",
    "    \n",
    "    packet_count += 1  # Increment the packet counter\n",
    "\n",
    "print(\"Received all packets.\")\n",
    "conn.close()\n",
    "server_socket.close()\n"
   ]
  }
 ],
 "metadata": {
  "kernelspec": {
   "display_name": "base",
   "language": "python",
   "name": "python3"
  },
  "language_info": {
   "codemirror_mode": {
    "name": "ipython",
    "version": 3
   },
   "file_extension": ".py",
   "mimetype": "text/x-python",
   "name": "python",
   "nbconvert_exporter": "python",
   "pygments_lexer": "ipython3",
   "version": "3.11.5"
  }
 },
 "nbformat": 4,
 "nbformat_minor": 2
}
